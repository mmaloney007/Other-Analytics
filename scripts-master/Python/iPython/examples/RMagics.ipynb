{
 "metadata": {
  "name": "",
  "signature": "sha256:0201e6083e0a84d5b650305e6bdf2479345696ef3d2c498f74c7eaea8423de51"
 },
 "nbformat": 3,
 "nbformat_minor": 0,
 "worksheets": [
  {
   "cells": [
    {
     "cell_type": "heading",
     "level": 1,
     "metadata": {},
     "source": [
      "Using R Within the IPython Notebook"
     ]
    },
    {
     "cell_type": "markdown",
     "metadata": {},
     "source": [
      "Using the `rmagic` extension, users can run R code from within the IPython Notebook. This example Notebook demonstrates this capability. "
     ]
    },
    {
     "cell_type": "code",
     "collapsed": false,
     "input": [
      "%matplotlib inline"
     ],
     "language": "python",
     "metadata": {},
     "outputs": [],
     "prompt_number": 3
    },
    {
     "cell_type": "code",
     "collapsed": false,
     "input": [
      "from IPython.display import YouTubeVideo\n",
      "YouTubeVideo('_Q3wyeaQmS0')"
     ],
     "language": "python",
     "metadata": {},
     "outputs": [
      {
       "html": [
        "\n",
        "        <iframe\n",
        "            width=\"400\"\n",
        "            height=300\"\n",
        "            src=\"https://www.youtube.com/embed/_Q3wyeaQmS0\"\n",
        "            frameborder=\"0\"\n",
        "            allowfullscreen\n",
        "        ></iframe>\n",
        "        "
       ],
       "metadata": {},
       "output_type": "pyout",
       "prompt_number": 30,
       "text": [
        "<IPython.lib.display.YouTubeVideo at 0x7fb414b96550>"
       ]
      }
     ],
     "prompt_number": 30
    },
    {
     "cell_type": "heading",
     "level": 2,
     "metadata": {},
     "source": [
      "Line magics"
     ]
    },
    {
     "cell_type": "markdown",
     "metadata": {},
     "source": [
      "IPython has an `rmagic` extension that contains a some magic functions for working with R via rpy2. This extension can be loaded using the `%load_ext` magic as follows:"
     ]
    },
    {
     "cell_type": "code",
     "collapsed": true,
     "input": [
      "%load_ext rpy2.ipython"
     ],
     "language": "python",
     "metadata": {},
     "outputs": [],
     "prompt_number": 8
    },
    {
     "cell_type": "markdown",
     "metadata": {},
     "source": [
      "A typical use case one imagines is having some numpy arrays, wanting to compute some statistics of interest on these\n",
      " arrays and return the result back to python. Let's suppose we just want to fit a simple linear model to a scatterplot."
     ]
    },
    {
     "cell_type": "code",
     "collapsed": false,
     "input": [
      "import numpy as np\n",
      "import matplotlib.pyplot as plt\n",
      "X = np.array([0,1,2,3,4])\n",
      "Y = np.array([3,5,4,6,7])\n",
      "plt.scatter(X, Y)"
     ],
     "language": "python",
     "metadata": {},
     "outputs": [
      {
       "metadata": {},
       "output_type": "pyout",
       "prompt_number": 9,
       "text": [
        "<matplotlib.collections.PathCollection at 0x7f3007f87310>"
       ]
      },
      {
       "metadata": {},
       "output_type": "display_data",
       "png": "[encoded data removed]",
       "text": [
        "<matplotlib.figure.Figure at 0x7f300b3650d0>"
       ]
      }
     ],
     "prompt_number": 9
    },
    {
     "cell_type": "markdown",
     "metadata": {},
     "source": [
      "We can accomplish this by first pushing variables to R, fitting a model and returning the results. The line magic %Rpush copies its arguments to variables of the same name in rpy2. The %R line magic evaluates the string in rpy2 and returns the results. In this case, the coefficients of a linear model."
     ]
    },
    {
     "cell_type": "code",
     "collapsed": false,
     "input": [
      "%Rpush X Y\n",
      "%R lm(Y~X)$coef"
     ],
     "language": "python",
     "metadata": {},
     "outputs": [
      {
       "metadata": {},
       "output_type": "pyout",
       "prompt_number": 11,
       "text": [
        "<FloatVector - Python:0x7f3013319248 / R:0x38ad128>\n",
        "[3.200000, 0.900000]"
       ]
      }
     ],
     "prompt_number": 11
    },
    {
     "cell_type": "markdown",
     "metadata": {},
     "source": [
      "We can check that this is correct fairly easily:"
     ]
    },
    {
     "cell_type": "code",
     "collapsed": false,
     "input": [
      "%R library(sorvi)\n",
      "%R postal.code.table <- get_postal_code_info() \n",
      "%R head(postal.code.table)"
     ],
     "language": "python",
     "metadata": {},
     "outputs": [
      {
       "metadata": {},
       "output_type": "display_data",
       "text": [
        "Downloading data from http://fi.wikipedia.org/wiki/Luettelo_Suomen_postinumeroista_kunnittain\n"
       ]
      },
      {
       "html": [
        "<div style=\"max-height:1000px;max-width:1500px;overflow:auto;\">\n",
        "<table border=\"1\" class=\"dataframe\">\n",
        "  <thead>\n",
        "    <tr style=\"text-align: right;\">\n",
        "      <th></th>\n",
        "      <th>postal.code</th>\n",
        "      <th>municipality</th>\n",
        "      <th>municipality.ascii</th>\n",
        "    </tr>\n",
        "  </thead>\n",
        "  <tbody>\n",
        "    <tr>\n",
        "      <th>0</th>\n",
        "      <td> 07230</td>\n",
        "      <td> Askola</td>\n",
        "      <td> Askola</td>\n",
        "    </tr>\n",
        "    <tr>\n",
        "      <th>1</th>\n",
        "      <td> 07500</td>\n",
        "      <td> Askola</td>\n",
        "      <td> Askola</td>\n",
        "    </tr>\n",
        "    <tr>\n",
        "      <th>2</th>\n",
        "      <td> 07510</td>\n",
        "      <td> Askola</td>\n",
        "      <td> Askola</td>\n",
        "    </tr>\n",
        "    <tr>\n",
        "      <th>3</th>\n",
        "      <td> 07530</td>\n",
        "      <td> Askola</td>\n",
        "      <td> Askola</td>\n",
        "    </tr>\n",
        "    <tr>\n",
        "      <th>4</th>\n",
        "      <td> 07580</td>\n",
        "      <td> Askola</td>\n",
        "      <td> Askola</td>\n",
        "    </tr>\n",
        "    <tr>\n",
        "      <th>5</th>\n",
        "      <td> 07590</td>\n",
        "      <td> Askola</td>\n",
        "      <td> Askola</td>\n",
        "    </tr>\n",
        "  </tbody>\n",
        "</table>\n",
        "<p>6 rows \u00d7 3 columns</p>\n",
        "</div>"
       ],
       "metadata": {},
       "output_type": "pyout",
       "prompt_number": 13,
       "text": [
        "  postal.code municipality municipality.ascii\n",
        "0       07230       Askola             Askola\n",
        "1       07500       Askola             Askola\n",
        "2       07510       Askola             Askola\n",
        "3       07530       Askola             Askola\n",
        "4       07580       Askola             Askola\n",
        "5       07590       Askola             Askola\n",
        "\n",
        "[6 rows x 3 columns]"
       ]
      }
     ],
     "prompt_number": 13
    },
    {
     "cell_type": "code",
     "collapsed": false,
     "input": [
      "Xr = X - X.mean(); Yr = Y - Y.mean()\n",
      "slope = (Xr*Yr).sum() / (Xr**2).sum()\n",
      "intercept = Y.mean() - X.mean() * slope\n",
      "(intercept, slope)"
     ],
     "language": "python",
     "metadata": {},
     "outputs": [
      {
       "metadata": {},
       "output_type": "pyout",
       "prompt_number": 19,
       "text": [
        "(3.2000000000000002, 0.90000000000000002)"
       ]
      }
     ],
     "prompt_number": 19
    },
    {
     "cell_type": "markdown",
     "metadata": {},
     "source": [
      "It is also possible to return more than one value with %R."
     ]
    },
    {
     "cell_type": "code",
     "collapsed": false,
     "input": [
      "%R resid(lm(Y~X)); coef(lm(X~Y))\n"
     ],
     "language": "python",
     "metadata": {},
     "outputs": [
      {
       "metadata": {},
       "output_type": "pyout",
       "prompt_number": 20,
       "text": [
        "<FloatVector - Python:0x7f30117c8bd8 / R:0x6a7fd40>\n",
        "[-2.500000, 0.900000]"
       ]
      }
     ],
     "prompt_number": 20
    },
    {
     "cell_type": "markdown",
     "metadata": {},
     "source": [
      "One can also easily capture the results of %R into python objects. Like R, the return value of this multiline expression (multiline in the sense that it is separated by ';') is the final value, which is \n",
      "the *coef(lm(X~Y))*. To pull other variables from R, there is one more magic."
     ]
    },
    {
     "cell_type": "markdown",
     "metadata": {},
     "source": [
      "There are two more line magics, %Rpull and %Rget. Both are useful after some R code has been executed and there are variables\n",
      "in the rpy2 namespace that one would like to retrieve. The main difference is that one\n",
      " returns the value (%Rget), while the other pulls it to self.shell.user_ns (%Rpull). Imagine we've stored the results\n",
      "of some calculation in the variable \"a\" in rpy2's namespace. By using the %R magic, we can obtain these results and\n",
      "store them in b. We can also pull them directly to user_ns with %Rpull. They are both views on the same data."
     ]
    },
    {
     "cell_type": "code",
     "collapsed": false,
     "input": [
      "b = %R a=resid(lm(Y~X))\n",
      "%Rpull a\n",
      "print(a)\n",
      "assert id(b.data) == id(a.data)\n",
      "%R -o a"
     ],
     "language": "python",
     "metadata": {},
     "outputs": [
      {
       "output_type": "stream",
       "stream": "stdout",
       "text": [
        "   1    2    3    4    5 \n",
        "-0.2  0.9 -1.0  0.1  0.2 \n",
        "\n"
       ]
      },
      {
       "ename": "AttributeError",
       "evalue": "'Array' object has no attribute 'data'",
       "output_type": "pyerr",
       "traceback": [
        "\u001b[0;31m---------------------------------------------------------------------------\u001b[0m\n\u001b[0;31mAttributeError\u001b[0m                            Traceback (most recent call last)",
        "\u001b[0;32m<ipython-input-21-8f644cd0d046>\u001b[0m in \u001b[0;36m<module>\u001b[0;34m()\u001b[0m\n\u001b[1;32m      2\u001b[0m \u001b[0mget_ipython\u001b[0m\u001b[0;34m(\u001b[0m\u001b[0;34m)\u001b[0m\u001b[0;34m.\u001b[0m\u001b[0mmagic\u001b[0m\u001b[0;34m(\u001b[0m\u001b[0;34mu'Rpull a'\u001b[0m\u001b[0;34m)\u001b[0m\u001b[0;34m\u001b[0m\u001b[0m\n\u001b[1;32m      3\u001b[0m \u001b[0;32mprint\u001b[0m\u001b[0;34m(\u001b[0m\u001b[0ma\u001b[0m\u001b[0;34m)\u001b[0m\u001b[0;34m\u001b[0m\u001b[0m\n\u001b[0;32m----> 4\u001b[0;31m \u001b[0;32massert\u001b[0m \u001b[0mid\u001b[0m\u001b[0;34m(\u001b[0m\u001b[0mb\u001b[0m\u001b[0;34m.\u001b[0m\u001b[0mdata\u001b[0m\u001b[0;34m)\u001b[0m \u001b[0;34m==\u001b[0m \u001b[0mid\u001b[0m\u001b[0;34m(\u001b[0m\u001b[0ma\u001b[0m\u001b[0;34m.\u001b[0m\u001b[0mdata\u001b[0m\u001b[0;34m)\u001b[0m\u001b[0;34m\u001b[0m\u001b[0m\n\u001b[0m\u001b[1;32m      5\u001b[0m \u001b[0mget_ipython\u001b[0m\u001b[0;34m(\u001b[0m\u001b[0;34m)\u001b[0m\u001b[0;34m.\u001b[0m\u001b[0mmagic\u001b[0m\u001b[0;34m(\u001b[0m\u001b[0;34mu'R -o a'\u001b[0m\u001b[0;34m)\u001b[0m\u001b[0;34m\u001b[0m\u001b[0m\n",
        "\u001b[0;31mAttributeError\u001b[0m: 'Array' object has no attribute 'data'"
       ]
      }
     ],
     "prompt_number": 21
    },
    {
     "cell_type": "markdown",
     "metadata": {},
     "source": [
      "%Rpull is equivalent to calling %R with just -o\n"
     ]
    },
    {
     "cell_type": "code",
     "collapsed": false,
     "input": [
      "%R d=resid(lm(Y~X)); e=coef(lm(Y~X))\n",
      "%R -o d -o e\n",
      "%Rpull e\n",
      "print(d)\n",
      "print(e)\n",
      "import numpy as np\n",
      "np.testing.assert_almost_equal(d, a)"
     ],
     "language": "python",
     "metadata": {},
     "outputs": [
      {
       "output_type": "stream",
       "stream": "stdout",
       "text": [
        "   1    2    3    4    5 \n",
        "-0.2  0.9 -1.0  0.1  0.2 \n",
        "\n",
        "(Intercept)           X \n",
        "        3.2         0.9 \n",
        "\n"
       ]
      },
      {
       "ename": "ValueError",
       "evalue": "The truth value of an array with more than one element is ambiguous. Use a.any() or a.all()",
       "output_type": "pyerr",
       "traceback": [
        "\u001b[0;31m---------------------------------------------------------------------------\u001b[0m\n\u001b[0;31mValueError\u001b[0m                                Traceback (most recent call last)",
        "\u001b[0;32m<ipython-input-22-b741c4058c04>\u001b[0m in \u001b[0;36m<module>\u001b[0;34m()\u001b[0m\n\u001b[1;32m      5\u001b[0m \u001b[0;32mprint\u001b[0m\u001b[0;34m(\u001b[0m\u001b[0me\u001b[0m\u001b[0;34m)\u001b[0m\u001b[0;34m\u001b[0m\u001b[0m\n\u001b[1;32m      6\u001b[0m \u001b[0;32mimport\u001b[0m \u001b[0mnumpy\u001b[0m \u001b[0;32mas\u001b[0m \u001b[0mnp\u001b[0m\u001b[0;34m\u001b[0m\u001b[0m\n\u001b[0;32m----> 7\u001b[0;31m \u001b[0mnp\u001b[0m\u001b[0;34m.\u001b[0m\u001b[0mtesting\u001b[0m\u001b[0;34m.\u001b[0m\u001b[0massert_almost_equal\u001b[0m\u001b[0;34m(\u001b[0m\u001b[0md\u001b[0m\u001b[0;34m,\u001b[0m \u001b[0ma\u001b[0m\u001b[0;34m)\u001b[0m\u001b[0;34m\u001b[0m\u001b[0m\n\u001b[0m",
        "\u001b[0;32m/usr/lib/python2.7/dist-packages/numpy/testing/utils.pyc\u001b[0m in \u001b[0;36massert_almost_equal\u001b[0;34m(actual, desired, decimal, err_msg, verbose)\u001b[0m\n\u001b[1;32m    457\u001b[0m         \u001b[0;31m# check that both are nan if any is a nan, and test for equality\u001b[0m\u001b[0;34m\u001b[0m\u001b[0;34m\u001b[0m\u001b[0m\n\u001b[1;32m    458\u001b[0m         \u001b[0;31m# otherwise\u001b[0m\u001b[0;34m\u001b[0m\u001b[0;34m\u001b[0m\u001b[0m\n\u001b[0;32m--> 459\u001b[0;31m         \u001b[0;32mif\u001b[0m \u001b[0;32mnot\u001b[0m \u001b[0;34m(\u001b[0m\u001b[0mgisfinite\u001b[0m\u001b[0;34m(\u001b[0m\u001b[0mdesired\u001b[0m\u001b[0;34m)\u001b[0m \u001b[0;32mand\u001b[0m \u001b[0mgisfinite\u001b[0m\u001b[0;34m(\u001b[0m\u001b[0mactual\u001b[0m\u001b[0;34m)\u001b[0m\u001b[0;34m)\u001b[0m\u001b[0;34m:\u001b[0m\u001b[0;34m\u001b[0m\u001b[0m\n\u001b[0m\u001b[1;32m    460\u001b[0m             \u001b[0;32mif\u001b[0m \u001b[0mgisnan\u001b[0m\u001b[0;34m(\u001b[0m\u001b[0mdesired\u001b[0m\u001b[0;34m)\u001b[0m \u001b[0;32mor\u001b[0m \u001b[0mgisnan\u001b[0m\u001b[0;34m(\u001b[0m\u001b[0mactual\u001b[0m\u001b[0;34m)\u001b[0m\u001b[0;34m:\u001b[0m\u001b[0;34m\u001b[0m\u001b[0m\n\u001b[1;32m    461\u001b[0m                 \u001b[0;32mif\u001b[0m \u001b[0;32mnot\u001b[0m \u001b[0;34m(\u001b[0m\u001b[0mgisnan\u001b[0m\u001b[0;34m(\u001b[0m\u001b[0mdesired\u001b[0m\u001b[0;34m)\u001b[0m \u001b[0;32mand\u001b[0m \u001b[0mgisnan\u001b[0m\u001b[0;34m(\u001b[0m\u001b[0mactual\u001b[0m\u001b[0;34m)\u001b[0m\u001b[0;34m)\u001b[0m\u001b[0;34m:\u001b[0m\u001b[0;34m\u001b[0m\u001b[0m\n",
        "\u001b[0;31mValueError\u001b[0m: The truth value of an array with more than one element is ambiguous. Use a.any() or a.all()"
       ]
      }
     ],
     "prompt_number": 22
    },
    {
     "cell_type": "markdown",
     "metadata": {},
     "source": [
      "On the other hand %Rpush is equivalent to calling %R with just -i and no trailing code."
     ]
    },
    {
     "cell_type": "code",
     "collapsed": false,
     "input": [
      "A = np.arange(20)\n",
      "%R -i A\n",
      "%R mean(A)\n"
     ],
     "language": "python",
     "metadata": {},
     "outputs": [
      {
       "metadata": {},
       "output_type": "pyout",
       "prompt_number": 23,
       "text": [
        "<FloatVector - Python:0x7f3007fe95a8 / R:0x65b2958>\n",
        "[9.500000]"
       ]
      }
     ],
     "prompt_number": 23
    },
    {
     "cell_type": "markdown",
     "metadata": {},
     "source": [
      "The magic %Rget retrieves one variable from R."
     ]
    },
    {
     "cell_type": "code",
     "collapsed": false,
     "input": [
      "%Rget A"
     ],
     "language": "python",
     "metadata": {},
     "outputs": [
      {
       "metadata": {},
       "output_type": "pyout",
       "prompt_number": 24,
       "text": [
        "<Array - Python:0x7f30117c90e0 / R:0x6a8b370>\n",
        "[       0,        1,        2, ...,       17,       18,       19]"
       ]
      }
     ],
     "prompt_number": 24
    },
    {
     "cell_type": "heading",
     "level": 2,
     "metadata": {},
     "source": [
      "Plotting and capturing output"
     ]
    },
    {
     "cell_type": "markdown",
     "metadata": {},
     "source": [
      "R's console (i.e. its stdout() connection) is captured by ipython, as are any plots which are published as PNG files, as with `%matplotlib inline`. As a call to %R may produce a return value (see above) we must ask what happens to a magic like the one below. The R code specifies that something is published to the notebook. If anything is published to the notebook, that call to %R returns None."
     ]
    },
    {
     "cell_type": "code",
     "collapsed": false,
     "input": [
      "from __future__ import print_function\n",
      "v1 = %R plot(X,Y); print(summary(lm(Y~X))); vv=mean(X)*mean(Y)\n",
      "print('v1 is:', v1)\n",
      "v2 = %R mean(X)*mean(Y)\n",
      "print('v2 is:', v2)"
     ],
     "language": "python",
     "metadata": {},
     "outputs": [
      {
       "metadata": {},
       "output_type": "display_data",
       "text": [
        "\n",
        "Call:\n",
        "lm(formula = Y ~ X)\n",
        "\n",
        "Residuals:\n",
        "   1    2    3    4    5 \n",
        "-0.2  0.9 -1.0  0.1  0.2 \n",
        "\n",
        "Coefficients:\n",
        "            Estimate Std. Error t value Pr(>|t|)  \n",
        "(Intercept)   3.2000     0.6164   5.191   0.0139 *\n",
        "X             0.9000     0.2517   3.576   0.0374 *\n",
        "---\n",
        "Signif. codes:  0 \u2018***\u2019 0.001 \u2018**\u2019 0.01 \u2018*\u2019 0.05 \u2018.\u2019 0.1 \u2018 \u2019 1\n",
        "\n",
        "Residual standard error: 0.7958 on 3 degrees of freedom\n",
        "Multiple R-squared:   0.81,\tAdjusted R-squared:  0.7467 \n",
        "F-statistic: 12.79 on 1 and 3 DF,  p-value: 0.03739\n",
        "\n"
       ]
      },
      {
       "metadata": {},
       "output_type": "display_data",
       "png": "[encoded data removed]"
      },
      {
       "output_type": "stream",
       "stream": "stdout",
       "text": [
        "v1 is: [1] 10\n",
        "\n",
        "v2 is: [1] 10\n",
        "\n"
       ]
      }
     ],
     "prompt_number": 25
    },
    {
     "cell_type": "heading",
     "level": 2,
     "metadata": {},
     "source": [
      "What value is returned from %R?"
     ]
    },
    {
     "cell_type": "markdown",
     "metadata": {},
     "source": [
      "Some calls have no particularly interesting return value, the magic %R will not return anything in this case. The return value in rpy2 is actually NULL so %R returns None."
     ]
    },
    {
     "cell_type": "code",
     "collapsed": false,
     "input": [
      "v = %R plot(X,Y)\n",
      "assert v == None"
     ],
     "language": "python",
     "metadata": {},
     "outputs": [
      {
       "metadata": {},
       "output_type": "display_data",
       "png": "[encoded data removed]"
      }
     ],
     "prompt_number": 26
    },
    {
     "cell_type": "markdown",
     "metadata": {},
     "source": [
      "Also, if the return value of a call to %R (in line mode) has just been printed to the console, then its value is also not returned."
     ]
    },
    {
     "cell_type": "code",
     "collapsed": false,
     "input": [
      "v = %R print(X)\n",
      "assert v == None"
     ],
     "language": "python",
     "metadata": {},
     "outputs": [
      {
       "metadata": {},
       "output_type": "display_data",
       "text": [
        "[1] 0 1 2 3 4\n"
       ]
      }
     ],
     "prompt_number": 27
    },
    {
     "cell_type": "markdown",
     "metadata": {},
     "source": [
      "But, if the last value did not print anything to console, the value is returned:\n"
     ]
    },
    {
     "cell_type": "code",
     "collapsed": false,
     "input": [
      "v = %R print(summary(X)); X\n",
      "print('v:', v)"
     ],
     "language": "python",
     "metadata": {},
     "outputs": [
      {
       "metadata": {},
       "output_type": "display_data",
       "text": [
        "   Min. 1st Qu.  Median    Mean 3rd Qu.    Max. \n",
        "      0       1       2       2       3       4 \n"
       ]
      },
      {
       "output_type": "stream",
       "stream": "stdout",
       "text": [
        "v: [1] 0 1 2 3 4\n",
        "\n"
       ]
      }
     ],
     "prompt_number": 28
    },
    {
     "cell_type": "markdown",
     "metadata": {},
     "source": [
      "The return value can be suppressed by a trailing ';' or an -n argument.\n"
     ]
    },
    {
     "cell_type": "code",
     "collapsed": true,
     "input": [
      "%R -n X"
     ],
     "language": "python",
     "metadata": {},
     "outputs": [],
     "prompt_number": 29
    },
    {
     "cell_type": "code",
     "collapsed": true,
     "input": [
      "%R X; "
     ],
     "language": "python",
     "metadata": {},
     "outputs": [],
     "prompt_number": 30
    },
    {
     "cell_type": "heading",
     "level": 2,
     "metadata": {},
     "source": [
      "Cell level magic"
     ]
    },
    {
     "cell_type": "markdown",
     "metadata": {},
     "source": [
      "Often, we will want to do more than a simple linear regression model. There may be several lines of R code that we want to \n",
      "use before returning to python. This is the cell-level magic.\n",
      "\n",
      "\n",
      "For the cell level magic, inputs can be passed via the -i or --inputs argument in the line. These variables are copied \n",
      "from the shell namespace to R's namespace using rpy2.robjects.r.assign. It would be nice not to have to copy these into R: rnumpy ( http://bitbucket.org/njs/rnumpy/wiki/API ) has done some work to limit or at least make transparent the number of copies of an array. This seems like a natural thing to try to build on. Arrays can be output from R via the -o or --outputs argument in the line. All other arguments are sent to R's png function, which is the graphics device used to create the plots.\n",
      "\n",
      "We can redo the above calculations in one ipython cell. We might also want to add some output such as a summary\n",
      " from R or perhaps the standard plotting diagnostics of the lm."
     ]
    },
    {
     "cell_type": "code",
     "collapsed": false,
     "input": [
      "%%R -i X,Y -o XYcoef\n",
      "XYlm = lm(Y~X)\n",
      "XYcoef = coef(XYlm)\n",
      "print(summary(XYlm))\n",
      "par(mfrow=c(2,2))\n",
      "plot(XYlm)"
     ],
     "language": "python",
     "metadata": {},
     "outputs": [
      {
       "metadata": {},
       "output_type": "display_data",
       "text": [
        "\n",
        "Call:\n",
        "lm(formula = Y ~ X)\n",
        "\n",
        "Residuals:\n",
        "   1    2    3    4    5 \n",
        "-0.2  0.9 -1.0  0.1  0.2 \n",
        "\n",
        "Coefficients:\n",
        "            Estimate Std. Error t value Pr(>|t|)  \n",
        "(Intercept)   3.2000     0.6164   5.191   0.0139 *\n",
        "X             0.9000     0.2517   3.576   0.0374 *\n",
        "---\n",
        "Signif. codes:  0 \u2018***\u2019 0.001 \u2018**\u2019 0.01 \u2018*\u2019 0.05 \u2018.\u2019 0.1 \u2018 \u2019 1\n",
        "\n",
        "Residual standard error: 0.7958 on 3 degrees of freedom\n",
        "Multiple R-squared:   0.81,\tAdjusted R-squared:  0.7467 \n",
        "F-statistic: 12.79 on 1 and 3 DF,  p-value: 0.03739\n",
        "\n"
       ]
      },
      {
       "metadata": {},
       "output_type": "display_data",
       "png": "[encoded data removed]"
      }
     ],
     "prompt_number": 31
    },
    {
     "cell_type": "heading",
     "level": 2,
     "metadata": {},
     "source": [
      "Passing data back and forth"
     ]
    },
    {
     "cell_type": "markdown",
     "metadata": {},
     "source": [
      "Currently, data is passed through RMagics.pyconverter when going from python to R and RMagics.Rconverter when \n",
      "going from R to python. These currently default to numpy.ndarray. Future work will involve writing better converters, most likely involving integration with http://pandas.sourceforge.net.\n",
      "\n",
      "Passing ndarrays into R seems to require a copy, though once an object is returned to python, this object is NOT copied, and it is possible to change its values.\n"
     ]
    },
    {
     "cell_type": "code",
     "collapsed": true,
     "input": [
      "seq1 = np.arange(10)"
     ],
     "language": "python",
     "metadata": {},
     "outputs": [],
     "prompt_number": 17
    },
    {
     "cell_type": "code",
     "collapsed": false,
     "input": [
      "%%R -i seq1 -o seq2\n",
      "seq2 = rep(seq1, 2)\n",
      "print(seq2)"
     ],
     "language": "python",
     "metadata": {},
     "outputs": [
      {
       "metadata": {},
       "output_type": "display_data",
       "text": [
        " [1] 0 1 2 3 4 5 6 7 8 9 0 1 2 3 4 5 6 7 8 9\n"
       ]
      }
     ],
     "prompt_number": 18
    },
    {
     "cell_type": "code",
     "collapsed": false,
     "input": [
      "seq2[::2] = 0\n",
      "seq2"
     ],
     "language": "python",
     "metadata": {},
     "outputs": [
      {
       "metadata": {},
       "output_type": "pyout",
       "prompt_number": 19,
       "text": [
        "array([0, 1, 0, 3, 0, 5, 0, 7, 0, 9, 0, 1, 0, 3, 0, 5, 0, 7, 0, 9], dtype=int32)"
       ]
      }
     ],
     "prompt_number": 19
    },
    {
     "cell_type": "code",
     "collapsed": false,
     "input": [
      "%%R\n",
      "print(seq2)"
     ],
     "language": "python",
     "metadata": {},
     "outputs": [
      {
       "metadata": {},
       "output_type": "display_data",
       "text": [
        " [1] 0 1 0 3 0 5 0 7 0 9 0 1 0 3 0 5 0 7 0 9\n"
       ]
      }
     ],
     "prompt_number": 20
    },
    {
     "cell_type": "markdown",
     "metadata": {},
     "source": [
      "Once the array data has been passed to R, modifring its contents does not modify R's copy of the data."
     ]
    },
    {
     "cell_type": "code",
     "collapsed": false,
     "input": [
      "seq1[0] = 200\n",
      "%R print(seq1)"
     ],
     "language": "python",
     "metadata": {},
     "outputs": [
      {
       "metadata": {},
       "output_type": "display_data",
       "text": [
        " [1] 0 1 2 3 4 5 6 7 8 9\n"
       ]
      }
     ],
     "prompt_number": 21
    },
    {
     "cell_type": "markdown",
     "metadata": {},
     "source": [
      "But, if we pass data as both input and output, then the value of \"data\" in user_ns will be overwritten and the\n",
      "new array will be a view of the data in R's copy."
     ]
    },
    {
     "cell_type": "code",
     "collapsed": false,
     "input": [
      "print(seq1)\n",
      "%R -i seq1 -o seq1\n",
      "print(seq1)\n",
      "seq1[0] = 200\n",
      "%R print(seq1)\n",
      "seq1_view = %R seq1\n",
      "assert(id(seq1_view.data) == id(seq1.data))"
     ],
     "language": "python",
     "metadata": {},
     "outputs": [
      {
       "output_type": "stream",
       "stream": "stdout",
       "text": [
        "[200   1   2   3   4   5   6   7   8   9]\n",
        "[200   1   2   3   4   5   6   7   8   9]\n"
       ]
      },
      {
       "metadata": {},
       "output_type": "display_data",
       "text": [
        " [1] 200   1   2   3   4   5   6   7   8   9\n"
       ]
      }
     ],
     "prompt_number": 22
    },
    {
     "cell_type": "heading",
     "level": 2,
     "metadata": {},
     "source": [
      "Exception handling\n"
     ]
    },
    {
     "cell_type": "markdown",
     "metadata": {},
     "source": [
      "Exceptions are handled by passing back rpy2's exception and the line that triggered it."
     ]
    },
    {
     "cell_type": "code",
     "collapsed": false,
     "input": [
      "try:\n",
      "    %R -n nosuchvar\n",
      "except Exception as e:\n",
      "    print(e)\n",
      "    pass"
     ],
     "language": "python",
     "metadata": {},
     "outputs": [
      {
       "output_type": "stream",
       "stream": "stdout",
       "text": [
        "parsing and evaluating line \"nosuchvar\".\n",
        "R error message: \"Error in eval(expr, envir, enclos) : object 'nosuchvar' not found\n",
        "\"\n",
        " R stdout:\"Error in eval(expr, envir, enclos) : object 'nosuchvar' not found\n",
        "\"\n",
        "\n"
       ]
      }
     ],
     "prompt_number": 23
    },
    {
     "cell_type": "heading",
     "level": 2,
     "metadata": {},
     "source": [
      "Structured arrays and data frames\n"
     ]
    },
    {
     "cell_type": "markdown",
     "metadata": {},
     "source": [
      "In R, data frames play an important role as they allow array-like objects of mixed type with column names (and row names). In bumpy, the closest analogy is a structured array with named fields. In future work, it would be nice to use pandas to return full-fledged DataFrames from rpy2. In the mean time, structured arrays can be passed back and forth with the -d flag to %R, %Rpull, and %Rget"
     ]
    },
    {
     "cell_type": "code",
     "collapsed": true,
     "input": [
      "datapy= np.array([(1, 2.9, 'a'), (2, 3.5, 'b'), (3, 2.1, 'c')],\n",
      "          dtype=[('x', '<i4'), ('y', '<f8'), ('z', '|S1')])\n"
     ],
     "language": "python",
     "metadata": {},
     "outputs": [],
     "prompt_number": 24
    },
    {
     "cell_type": "code",
     "collapsed": true,
     "input": [
      "%%R -i datapy -d datar\n",
      "datar = datapy"
     ],
     "language": "python",
     "metadata": {},
     "outputs": [],
     "prompt_number": 25
    },
    {
     "cell_type": "code",
     "collapsed": false,
     "input": [
      "datar"
     ],
     "language": "python",
     "metadata": {},
     "outputs": [
      {
       "metadata": {},
       "output_type": "pyout",
       "prompt_number": 26,
       "text": [
        "array([(1, 2.9, 'a'), (2, 3.5, 'b'), (3, 2.1, 'c')], \n",
        "      dtype=[('x', '<i4'), ('y', '<f8'), ('z', '|S1')])"
       ]
      }
     ],
     "prompt_number": 26
    },
    {
     "cell_type": "code",
     "collapsed": false,
     "input": [
      "%R datar2 = datapy\n",
      "%Rpull -d datar2\n",
      "datar2"
     ],
     "language": "python",
     "metadata": {},
     "outputs": [
      {
       "metadata": {},
       "output_type": "pyout",
       "prompt_number": 27,
       "text": [
        "array([(1, 2.9, 'a'), (2, 3.5, 'b'), (3, 2.1, 'c')], \n",
        "      dtype=[('x', '<i4'), ('y', '<f8'), ('z', '|S1')])"
       ]
      }
     ],
     "prompt_number": 27
    },
    {
     "cell_type": "code",
     "collapsed": false,
     "input": [
      "%Rget -d datar2"
     ],
     "language": "python",
     "metadata": {},
     "outputs": [
      {
       "metadata": {},
       "output_type": "pyout",
       "prompt_number": 28,
       "text": [
        "array([(1, 2.9, 'a'), (2, 3.5, 'b'), (3, 2.1, 'c')], \n",
        "      dtype=[('x', '<i4'), ('y', '<f8'), ('z', '|S1')])"
       ]
      }
     ],
     "prompt_number": 28
    },
    {
     "cell_type": "markdown",
     "metadata": {},
     "source": [
      "For arrays without names, the -d argument has no effect because the R object has no colnames or names."
     ]
    },
    {
     "cell_type": "code",
     "collapsed": false,
     "input": [
      "Z = np.arange(6)\n",
      "%R -i Z\n",
      "%Rget -d Z"
     ],
     "language": "python",
     "metadata": {},
     "outputs": [
      {
       "metadata": {},
       "output_type": "pyout",
       "prompt_number": 29,
       "text": [
        "array([0, 1, 2, 3, 4, 5], dtype=int32)"
       ]
      }
     ],
     "prompt_number": 29
    },
    {
     "cell_type": "markdown",
     "metadata": {},
     "source": [
      "For mixed-type data frames in R, if the -d flag is not used, then an array of a single type is returned and\n",
      "its value is transposed. This would be nice to fix, but it seems something that should be fixed at the rpy2 level (See: https://bitbucket.org/lgautier/rpy2/issue/44/numpyrecarray-as-dataframe)"
     ]
    },
    {
     "cell_type": "code",
     "collapsed": false,
     "input": [
      "%Rget datar2"
     ],
     "language": "python",
     "metadata": {},
     "outputs": [
      {
       "metadata": {},
       "output_type": "pyout",
       "prompt_number": 30,
       "text": [
        "array([['1', '2', '3'],\n",
        "       ['2', '3', '2'],\n",
        "       ['a', 'b', 'c']], \n",
        "      dtype='|S1')"
       ]
      }
     ],
     "prompt_number": 30
    },
    {
     "cell_type": "markdown",
     "metadata": {},
     "source": [
      "### Network example"
     ]
    },
    {
     "cell_type": "markdown",
     "metadata": {},
     "source": [
      "From http://spencerboucher.com/sankey/"
     ]
    },
    {
     "cell_type": "code",
     "collapsed": false,
     "input": [
      "# Load modules and data\n",
      "\n",
      "import pandas as pd                        # For reading/munging the data  \n",
      "import networkx as nx                      # For creating a graph structure  \n",
      "from networkx.readwrite import json_graph  # For exporting a graph structure  \n",
      "from itertools import islice               # For some more interesting munging\n",
      "\n",
      "#%load_ext rmagic    \n",
      "%load_ext rpy2.ipython\n",
      "from IPython.display import HTML           # To display results when we're done\n",
      "\n",
      "!csvclean redditSubmissions.csv # creates the cleaned-up _out version of the CSV\n",
      "d = pd.read_csv('redditSubmissions_out.csv')  \n",
      "d.head()"
     ],
     "language": "python",
     "metadata": {},
     "outputs": [
      {
       "output_type": "stream",
       "stream": "stdout",
       "text": [
        "The rpy2.ipython extension is already loaded. To reload it, use:\n",
        "  %reload_ext rpy2.ipython\n"
       ]
      },
      {
       "output_type": "stream",
       "stream": "stdout",
       "text": [
        "6 errors logged to redditSubmissions_err.csv\r\n"
       ]
      },
      {
       "html": [
        "<div style=\"max-height:1000px;max-width:1500px;overflow:auto;\">\n",
        "<table border=\"1\" class=\"dataframe\">\n",
        "  <thead>\n",
        "    <tr style=\"text-align: right;\">\n",
        "      <th></th>\n",
        "      <th>#image_id</th>\n",
        "      <th>unixtime</th>\n",
        "      <th>rawtime</th>\n",
        "      <th>title</th>\n",
        "      <th>total_votes</th>\n",
        "      <th>reddit_id</th>\n",
        "      <th>number_of_upvotes</th>\n",
        "      <th>subreddit</th>\n",
        "      <th>number_of_downvotes</th>\n",
        "      <th>localtime</th>\n",
        "      <th>score</th>\n",
        "      <th>number_of_comments</th>\n",
        "      <th>username</th>\n",
        "    </tr>\n",
        "  </thead>\n",
        "  <tbody>\n",
        "    <tr>\n",
        "      <th>0</th>\n",
        "      <td> 0</td>\n",
        "      <td> 1333172439</td>\n",
        "      <td> 2012-03-31T12:40:39.590113-07:00</td>\n",
        "      <td>          And here's a downvote.</td>\n",
        "      <td> 63470</td>\n",
        "      <td> rmqjs</td>\n",
        "      <td> 32657</td>\n",
        "      <td>    funny</td>\n",
        "      <td> 30813</td>\n",
        "      <td> 1333197639</td>\n",
        "      <td> 1844</td>\n",
        "      <td> 622</td>\n",
        "      <td> Animates_Everything</td>\n",
        "    </tr>\n",
        "    <tr>\n",
        "      <th>1</th>\n",
        "      <td> 0</td>\n",
        "      <td> 1333178161</td>\n",
        "      <td> 2012-03-31T14:16:01.093638-07:00</td>\n",
        "      <td>                     Expectation</td>\n",
        "      <td>    35</td>\n",
        "      <td> rmun4</td>\n",
        "      <td>    29</td>\n",
        "      <td> GifSound</td>\n",
        "      <td>     6</td>\n",
        "      <td> 1333203361</td>\n",
        "      <td>   23</td>\n",
        "      <td>   3</td>\n",
        "      <td>       Gangsta_Raper</td>\n",
        "    </tr>\n",
        "    <tr>\n",
        "      <th>2</th>\n",
        "      <td> 0</td>\n",
        "      <td> 1333199913</td>\n",
        "      <td> 2012-03-31T20:18:33.192906-07:00</td>\n",
        "      <td>                        Downvote</td>\n",
        "      <td>    41</td>\n",
        "      <td> rna86</td>\n",
        "      <td>    32</td>\n",
        "      <td> GifSound</td>\n",
        "      <td>     9</td>\n",
        "      <td> 1333225113</td>\n",
        "      <td>   23</td>\n",
        "      <td>   0</td>\n",
        "      <td>       Gangsta_Raper</td>\n",
        "    </tr>\n",
        "    <tr>\n",
        "      <th>3</th>\n",
        "      <td> 0</td>\n",
        "      <td> 1333252330</td>\n",
        "      <td>        2012-04-01T10:52:10-07:00</td>\n",
        "      <td> Every time I downvote something</td>\n",
        "      <td>    10</td>\n",
        "      <td> ro7e4</td>\n",
        "      <td>     6</td>\n",
        "      <td> GifSound</td>\n",
        "      <td>     4</td>\n",
        "      <td> 1333277530</td>\n",
        "      <td>    2</td>\n",
        "      <td>   0</td>\n",
        "      <td>       Gangsta_Raper</td>\n",
        "    </tr>\n",
        "    <tr>\n",
        "      <th>4</th>\n",
        "      <td> 0</td>\n",
        "      <td> 1333272954</td>\n",
        "      <td> 2012-04-01T16:35:54.393381-07:00</td>\n",
        "      <td>  Downvote &amp;quot;Dies Irae&amp;quot;</td>\n",
        "      <td>    65</td>\n",
        "      <td> rooof</td>\n",
        "      <td>    57</td>\n",
        "      <td> GifSound</td>\n",
        "      <td>     8</td>\n",
        "      <td> 1333298154</td>\n",
        "      <td>   49</td>\n",
        "      <td>   0</td>\n",
        "      <td>       Gangsta_Raper</td>\n",
        "    </tr>\n",
        "  </tbody>\n",
        "</table>\n",
        "<p>5 rows \u00d7 13 columns</p>\n",
        "</div>"
       ],
       "metadata": {},
       "output_type": "pyout",
       "prompt_number": 21,
       "text": [
        "   #image_id    unixtime                           rawtime  \\\n",
        "0          0  1333172439  2012-03-31T12:40:39.590113-07:00   \n",
        "1          0  1333178161  2012-03-31T14:16:01.093638-07:00   \n",
        "2          0  1333199913  2012-03-31T20:18:33.192906-07:00   \n",
        "3          0  1333252330         2012-04-01T10:52:10-07:00   \n",
        "4          0  1333272954  2012-04-01T16:35:54.393381-07:00   \n",
        "\n",
        "                             title  total_votes reddit_id  number_of_upvotes  \\\n",
        "0           And here's a downvote.        63470     rmqjs              32657   \n",
        "1                      Expectation           35     rmun4                 29   \n",
        "2                         Downvote           41     rna86                 32   \n",
        "3  Every time I downvote something           10     ro7e4                  6   \n",
        "4   Downvote &quot;Dies Irae&quot;           65     rooof                 57   \n",
        "\n",
        "  subreddit  number_of_downvotes   localtime  score  number_of_comments  \\\n",
        "0     funny                30813  1333197639   1844                 622   \n",
        "1  GifSound                    6  1333203361     23                   3   \n",
        "2  GifSound                    9  1333225113     23                   0   \n",
        "3  GifSound                    4  1333277530      2                   0   \n",
        "4  GifSound                    8  1333298154     49                   0   \n",
        "\n",
        "              username  \n",
        "0  Animates_Everything  \n",
        "1        Gangsta_Raper  \n",
        "2        Gangsta_Raper  \n",
        "3        Gangsta_Raper  \n",
        "4        Gangsta_Raper  \n",
        "\n",
        "[5 rows x 13 columns]"
       ]
      }
     ],
     "prompt_number": 21
    },
    {
     "cell_type": "code",
     "collapsed": false,
     "input": [
      "# Identify the order in which each image is submitted to various subreddits, \n",
      "# removing repeats within a subreddit\n",
      "\n",
      "g = d.sort(['#image_id', 'unixtime'])\\\n",
      "     .ix[:,['#image_id', 'unixtime', 'subreddit']]\\\n",
      "     .drop_duplicates(cols = ['#image_id', 'subreddit'])\\\n",
      "     .groupby('#image_id')\n",
      "flow = [[el for el in x[1]] for x in list(g.subreddit)]  "
     ],
     "language": "python",
     "metadata": {},
     "outputs": [],
     "prompt_number": 22
    },
    {
     "cell_type": "code",
     "collapsed": false,
     "input": [
      "# Roll along the list of subreddits each image has been submitted to, \n",
      "# creating an edge tuple for each subsequent pair\n",
      "def window(seq, n=2):  \n",
      "    '''Returns a sliding window (of width n) over data from the iterable\n",
      "       s -> (s0,s1,...s[n-1]), (s1,s2,...,sn), ...'''\n",
      "    it = iter(seq)\n",
      "    result = tuple(islice(it, n))\n",
      "    if len(result) == n:\n",
      "        yield result    \n",
      "    for elem in it:\n",
      "        result = result[1:] + (elem,)\n",
      "        yield result\n",
      "\n",
      "sankey = [list(window([str(i) + x for i, x in enumerate(sub)])) for sub in flow]  \n",
      "sankey = [item for sublist in sankey for item in sublist] # flatten  "
     ],
     "language": "python",
     "metadata": {},
     "outputs": [],
     "prompt_number": 23
    },
    {
     "cell_type": "code",
     "collapsed": false,
     "input": [
      "# Create network structure\n",
      "S = nx.DiGraph()  \n",
      "for edge in sankey:  \n",
      "    if S.has_edge(*edge):\n",
      "        S[edge[0]][edge[1]]['weight'] +=1\n",
      "    else:\n",
      "        S.add_edge(*edge, weight = 1)\n",
      "\n",
      "# Trim edges\n",
      "S.remove_edges_from([x for x in S.edges(data=True) if x[2]['weight'] < 50])  \n",
      "flagged = [x for x, el in S.out_degree().items() if (x[0] != '3') & (el == 0)]  \n",
      "S.remove_edges_from([x for x in S.edges(data=True) if x[1] in flagged])  \n",
      "S.remove_nodes_from([x for x, n in S.degree().items() if n == 0])\n",
      "\n",
      "# Export\n",
      "json_graph.dump(S, open('sankey.json', 'w'))  "
     ],
     "language": "python",
     "metadata": {},
     "outputs": [],
     "prompt_number": 24
    },
    {
     "cell_type": "code",
     "collapsed": false,
     "input": [
      "%%R\n",
      "#install.packages('devtools')\n",
      "#library(devtools)\n",
      "#devtools::install_github(\"christophergandrud/d3Network\")\n",
      "library(d3Network)  "
     ],
     "language": "python",
     "metadata": {},
     "outputs": [],
     "prompt_number": 25
    },
    {
     "cell_type": "code",
     "collapsed": false,
     "input": [
      "%%R\n",
      "nodes <- JSONtoDF(file = paste0('sankey.json'), array = 'nodes')  \n",
      "nodes$id <- substring(nodes$id, 2)  \n",
      "links <- JSONtoDF(file = paste0('sankey.json'), array = 'links')  \n",
      "d3Sankey(Nodes = nodes, Links = links, Source = 'source',  \n",
      "         Target = 'target', Value = 'weight', NodeID = 'id', \n",
      "         width = 600, height = 500, fontsize = 12,\n",
      "         standAlone = TRUE, iframe = TRUE, file = 'sankey.html')"
     ],
     "language": "python",
     "metadata": {},
     "outputs": [
      {
       "metadata": {},
       "output_type": "display_data",
       "text": [
        "<iframe src='sankey.html' height=535 width=618></iframe>"
       ]
      }
     ],
     "prompt_number": 27
    },
    {
     "cell_type": "code",
     "collapsed": false,
     "input": [
      "HTML('<iframe src=\"sankey.html\" height=540 width=700 frameBorder=\"0\"></iframe>') "
     ],
     "language": "python",
     "metadata": {},
     "outputs": [
      {
       "html": [
        "<iframe src=\"sankey.html\" height=540 width=700 frameBorder=\"0\"></iframe>"
       ],
       "metadata": {},
       "output_type": "pyout",
       "prompt_number": 28,
       "text": [
        "<IPython.core.display.HTML at 0x7fb414b96710>"
       ]
      }
     ],
     "prompt_number": 28
    },
    {
     "cell_type": "code",
     "collapsed": false,
     "input": [],
     "language": "python",
     "metadata": {},
     "outputs": []
    }
   ],
   "metadata": {}
  }
 ]
}